{
 "cells": [
  {
   "cell_type": "code",
   "execution_count": 2,
   "metadata": {},
   "outputs": [],
   "source": [
    "import numpy\n",
    "from PIL import Image, ImageDraw\n",
    "import json\n",
    "import matplotlib.pyplot as plt "
   ]
  },
  {
   "cell_type": "code",
   "execution_count": 80,
   "metadata": {},
   "outputs": [],
   "source": [
    "#dir_ = '0-531/' #до 348 размечено \n",
    "#dir_ = '1064-1595/' #до 01324 размечено\n",
    "# dir_ = '1596-2127(возможно кривойjson)/' #да кривой, оба джейсона дают все пустые маски\n",
    "\n",
    "# dir_ = '2128-2659/' #до 2427 размечено\n",
    "#dir_ = '2660-3191/' # до 2965\n",
    "\n",
    "# dir_ = '3192-3723/' # 3292\n",
    "\n",
    "dir_ = '532-1063/' #как-то неравномерно"
   ]
  },
  {
   "cell_type": "code",
   "execution_count": 82,
   "metadata": {},
   "outputs": [],
   "source": [
    "raw_data = []\n",
    "with open(dir_+\"MRI Lumbar Part2.json.json\", \"r\") as file: \n",
    "#with open(dir_+\"MRI_3723.json\", \"r\") as file: #беру всегда part2, когда он есть, потому что они выглядят the same\n",
    "    raw_data = json.load(file)"
   ]
  },
  {
   "cell_type": "code",
   "execution_count": 83,
   "metadata": {},
   "outputs": [
    {
     "data": {
      "text/plain": [
       "532"
      ]
     },
     "execution_count": 83,
     "metadata": {},
     "output_type": "execute_result"
    }
   ],
   "source": [
    "all_keys = []\n",
    "for key in raw_data['_via_img_metadata'].keys():\n",
    "    all_keys.append(key)\n",
    "len(all_keys)"
   ]
  },
  {
   "cell_type": "code",
   "execution_count": 84,
   "metadata": {},
   "outputs": [],
   "source": [
    "pics_path = dir_ + 'pictures/'\n",
    "masks_path = dir_ + 'masks/'"
   ]
  },
  {
   "cell_type": "code",
   "execution_count": 85,
   "metadata": {},
   "outputs": [],
   "source": [
    "import os\n",
    "if not os.path.exists(masks_path):\n",
    "    os.makedirs(masks_path)"
   ]
  },
  {
   "cell_type": "code",
   "execution_count": 86,
   "metadata": {},
   "outputs": [
    {
     "name": "stdout",
     "output_type": "stream",
     "text": [
      "fucked image - not labeled at all or прямоугольник\n",
      "fucked image - not labeled at all or прямоугольник\n",
      "fucked image - not labeled at all or прямоугольник\n",
      "fucked image - not labeled at all or прямоугольник\n",
      "fucked image - not labeled at all or прямоугольник\n",
      "fucked image - not labeled at all or прямоугольник\n",
      "fucked image - not labeled at all or прямоугольник\n",
      "fucked image - not labeled at all or прямоугольник\n",
      "fucked image - not labeled at all or прямоугольник\n",
      "fucked image - not labeled at all or прямоугольник\n",
      "fucked image - not labeled at all or прямоугольник\n",
      "fucked image - not labeled at all or прямоугольник\n",
      "fucked image - not labeled at all or прямоугольник\n",
      "fucked image - not labeled at all or прямоугольник\n"
     ]
    }
   ],
   "source": [
    "fucked_imgs = []\n",
    "for k in range(0, len(all_keys)):\n",
    "    filename = raw_data['_via_img_metadata'][all_keys[k]]['filename']\n",
    "\n",
    "    image = Image.open(pics_path + filename)\n",
    "    width = image.size[0] \n",
    "    height = image.size[1]\n",
    "    \n",
    "    img = Image.new('LA', (width, height), 0)\n",
    "    for i in range(len(raw_data['_via_img_metadata'][all_keys[k]]['regions'])):\n",
    "        try:\n",
    "            xs = raw_data['_via_img_metadata'][all_keys[k]]['regions'][i]['shape_attributes']['all_points_x']\n",
    "            ys = raw_data['_via_img_metadata'][all_keys[k]]['regions'][i]['shape_attributes']['all_points_y']\n",
    "            all_pairs = []\n",
    "            for j in range(len(ys)):\n",
    "                all_pairs.append((xs[j], ys[j]))\n",
    "\n",
    "            if raw_data['_via_img_metadata'][all_keys[k]]['regions'][i]['region_attributes']['А3'] == 'disc':\n",
    "                ImageDraw.Draw(img).polygon(all_pairs, outline=1, fill=1)\n",
    "            elif raw_data['_via_img_metadata'][all_keys[k]]['regions'][i]['region_attributes']['А3'] == 'spinal canal':\n",
    "                ImageDraw.Draw(img).polygon(all_pairs, outline=2, fill=2)\n",
    "        except:\n",
    "            print('fucked image - not labeled at all or прямоугольник')\n",
    "            fucked_imgs.append(pics_path + filename)\n",
    "            \n",
    "        \n",
    "    mask = numpy.array(img)\n",
    "\n",
    "    plt.imsave(masks_path +filename, mask)\n"
   ]
  },
  {
   "cell_type": "code",
   "execution_count": 4,
   "metadata": {},
   "outputs": [],
   "source": [
    "width = 10\n",
    "height = 10\n",
    "img = Image.new('LA', (width, height), 0)"
   ]
  },
  {
   "cell_type": "code",
   "execution_count": 5,
   "metadata": {},
   "outputs": [
    {
     "data": {
      "image/png": "[encoded data removed]",
      "text/plain": [
       "<PIL.Image.Image image mode=LA size=10x10 at 0x7F261E2F3668>"
      ]
     },
     "execution_count": 5,
     "metadata": {},
     "output_type": "execute_result"
    }
   ],
   "source": [
    "img"
   ]
  },
  {
   "cell_type": "code",
   "execution_count": 6,
   "metadata": {},
   "outputs": [],
   "source": [
    "ImageDraw.Draw(img).polygon([1, 2, 1, 2], outline=1, fill=1)"
   ]
  },
  {
   "cell_type": "code",
   "execution_count": 7,
   "metadata": {},
   "outputs": [
    {
     "data": {
      "image/png": "[encoded data removed]",
      "text/plain": [
       "<PIL.Image.Image image mode=LA size=10x10 at 0x7F261E2F3668>"
      ]
     },
     "execution_count": 7,
     "metadata": {},
     "output_type": "execute_result"
    }
   ],
   "source": [
    "img"
   ]
  },
  {
   "cell_type": "code",
   "execution_count": null,
   "metadata": {},
   "outputs": [],
   "source": []
  }
 ],
 "metadata": {
  "kernelspec": {
   "display_name": "Python 3",
   "language": "python",
   "name": "python3"
  },
  "language_info": {
   "codemirror_mode": {
    "name": "ipython",
    "version": 3
   },
   "file_extension": ".py",
   "mimetype": "text/x-python",
   "name": "python",
   "nbconvert_exporter": "python",
   "pygments_lexer": "ipython3",
   "version": "3.7.9"
  }
 },
 "nbformat": 4,
 "nbformat_minor": 2
}
